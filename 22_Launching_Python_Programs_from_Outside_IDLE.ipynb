{
  "nbformat": 4,
  "nbformat_minor": 0,
  "metadata": {
    "colab": {
      "name": "22. Launching Python Programs from Outside IDLE",
      "provenance": [],
      "collapsed_sections": [],
      "include_colab_link": true
    },
    "kernelspec": {
      "name": "python3",
      "display_name": "Python 3"
    }
  },
  "cells": [
    {
      "cell_type": "markdown",
      "metadata": {
        "id": "view-in-github",
        "colab_type": "text"
      },
      "source": [
        "<a href=\"https://colab.research.google.com/github/Lukasz310/Automate-the-Boring-Stuff-with-Python/blob/master/22_Launching_Python_Programs_from_Outside_IDLE.ipynb\" target=\"_parent\"><img src=\"https://colab.research.google.com/assets/colab-badge.svg\" alt=\"Open In Colab\"/></a>"
      ]
    },
    {
      "cell_type": "markdown",
      "metadata": {
        "id": "gzWRajUmvZbU",
        "colab_type": "text"
      },
      "source": [
        "To Recap:\n",
        "- The shebang line tells your computer that you want to run the script using Python 3\n",
        "- A batch file can save you a lot of typing by running multiple commands\n",
        "- The batch files you'll make will look like this:<br>\n",
        "<br>\n",
        "&nbsp;&nbsp;&nbsp;&nbsp; C:\\Users\\Lukasz\\MyPy\\hello.py %* <br> \n",
        "&nbsp;&nbsp;&nbsp;&nbsp; @pause\n",
        "<br>\n",
        "<br>\n",
        "- Add the Mypy folder to the PATH enviroment\n",
        "- Command-line arguments can be read in the <code>sys.argv</code> list\n",
        "\n",
        " "
      ]
    },
    {
      "cell_type": "code",
      "metadata": {
        "id": "0k5r5dQW1KWg",
        "colab_type": "code",
        "colab": {}
      },
      "source": [
        ""
      ],
      "execution_count": 0,
      "outputs": []
    }
  ]
}