{
  "nbformat": 4,
  "nbformat_minor": 0,
  "metadata": {
    "colab": {
      "name": "20. String Methods",
      "provenance": [],
      "collapsed_sections": [],
      "include_colab_link": true
    },
    "kernelspec": {
      "name": "python3",
      "display_name": "Python 3"
    }
  },
  "cells": [
    {
      "cell_type": "markdown",
      "metadata": {
        "id": "view-in-github",
        "colab_type": "text"
      },
      "source": [
        "<a href=\"https://colab.research.google.com/github/Lukasz310/Automate-the-Boring-Stuff-with-Python/blob/master/20_String_Methods.ipynb\" target=\"_parent\"><img src=\"https://colab.research.google.com/assets/colab-badge.svg\" alt=\"Open In Colab\"/></a>"
      ]
    },
    {
      "cell_type": "markdown",
      "metadata": {
        "id": "UxjdEPMsN-eO",
        "colab_type": "text"
      },
      "source": [
        "To Recap:\n",
        "- upper() and lower() return an uppercase or lowercase string.\n",
        "- isupper(), islower(), isalpha(), isalnum(), isdecimal(), isspace(), istitle() returns True or False if the string is that respective kind of string.\n",
        "- startswith() and endswith() also return bools.\n",
        "- ','.join(['cat','dog']) returns a string that combines the strings in a list.\n",
        "- 'Hello World'.split() returns a list of strings, split from the string it's called on.\n",
        "- rjust(), ljust(), center() returns a string padded with spaces.\n",
        "- strip(), rstrip(), lstrip() returns a string with whitespace stripped off the sides.\n",
        "-replace() will replace all occurences of the first string argument with the second string argument.\n",
        "- pyperclip has copy() and paste() functions for uing the clipboard."
      ]
    },
    {
      "cell_type": "code",
      "metadata": {
        "id": "J1AZNV6UPpM3",
        "colab_type": "code",
        "colab": {}
      },
      "source": [
        ""
      ],
      "execution_count": 0,
      "outputs": []
    }
  ]
}