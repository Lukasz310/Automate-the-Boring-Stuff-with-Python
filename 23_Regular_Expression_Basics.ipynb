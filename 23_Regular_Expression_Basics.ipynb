{
  "nbformat": 4,
  "nbformat_minor": 0,
  "metadata": {
    "colab": {
      "name": "23. Regular Expression Basics",
      "provenance": [],
      "collapsed_sections": [],
      "include_colab_link": true
    },
    "kernelspec": {
      "name": "python3",
      "display_name": "Python 3"
    }
  },
  "cells": [
    {
      "cell_type": "markdown",
      "metadata": {
        "id": "view-in-github",
        "colab_type": "text"
      },
      "source": [
        "<a href=\"https://colab.research.google.com/github/Lukasz310/Automate-the-Boring-Stuff-with-Python/blob/master/23_Regular_Expression_Basics.ipynb\" target=\"_parent\"><img src=\"https://colab.research.google.com/assets/colab-badge.svg\" alt=\"Open In Colab\"/></a>"
      ]
    },
    {
      "cell_type": "markdown",
      "metadata": {
        "id": "mfYlGHWdIc-c",
        "colab_type": "text"
      },
      "source": [
        ""
      ]
    },
    {
      "cell_type": "code",
      "metadata": {
        "id": "x2Gsy9VzIdxY",
        "colab_type": "code",
        "colab": {
          "base_uri": "https://localhost:8080/",
          "height": 51
        },
        "outputId": "42a1ce1b-44e9-4bdc-e81e-f7cf4f5c098f"
      },
      "source": [
        "def isPhoneNumber(test):\n",
        "    if len(test) !=12:\n",
        "        return False # no phone number-sized\n",
        "    for i in range(0, 3):\n",
        "        if not test[i].isdecimal():\n",
        "            return False # no area code\n",
        "    if test[3] != '-':\n",
        "        return False # missing dash\n",
        "    for i in range(4, 7):\n",
        "        if not test[i].isdecimal():\n",
        "            return False # no first 3 digits\n",
        "    if test[7] != '-':\n",
        "        return False # missing second dash\n",
        "    for i in range(8, 12):\n",
        "        if not test[i].isdecimal():\n",
        "            return False # missing last 4 digits\n",
        "    return True\n",
        "\n",
        "message = 'Call me at 415-555-1011 tomorrow, or at 415-555-9999'\n",
        "foundNumber = False\n",
        "for i in range(len(message)):\n",
        "    chunk = message[i:i+12]\n",
        "    if isPhoneNumber(chunk):\n",
        "        print('Phone number found ' + chunk)\n",
        "        foundNumber = True\n",
        "if not foundNumber:\n",
        "    print('Could not find any phone numbers')\n",
        "\n"
      ],
      "execution_count": 1,
      "outputs": [
        {
          "output_type": "stream",
          "text": [
            "Phone number found 415-555-1011\n",
            "Phone number found 415-555-9999\n"
          ],
          "name": "stdout"
        }
      ]
    },
    {
      "cell_type": "code",
      "metadata": {
        "id": "qhcVBQstIi93",
        "colab_type": "code",
        "colab": {
          "base_uri": "https://localhost:8080/",
          "height": 51
        },
        "outputId": "78b882e6-8bb3-435e-89cb-91d7b697ca7f"
      },
      "source": [
        "import re\n",
        "phoneNumRegex = re.compile(r'\\d\\d\\d-\\d\\d\\d-\\d\\d\\d\\d')\n",
        "mo = phoneNumRegex.search('Call me at 415-555-1011 tomorrow, or at 415-555-9999')\n",
        "print(mo.group())\n",
        "\n",
        "print(phoneNumRegex.findall('Call me at 415-555-1011 tomorrow, or at 415-555-9999'))"
      ],
      "execution_count": 3,
      "outputs": [
        {
          "output_type": "stream",
          "text": [
            "415-555-1011\n",
            "['415-555-1011', '415-555-9999']\n"
          ],
          "name": "stdout"
        }
      ]
    },
    {
      "cell_type": "markdown",
      "metadata": {
        "id": "ikmYLrnlI_0b",
        "colab_type": "text"
      },
      "source": [
        "To Recap:\n",
        "- regular expressions are mini-language for specifying text pattern. Writing code to do pattern matching without regular expressions is a huge pain.\n",
        "- Regex strings often use \\ backslashes (like \\d), so they are often raw strings: r'\\d.\n",
        "- Import the __re__ module first\n",
        "- Call the __re.compile()__ function to create a regex object.\n",
        "- Call the regex object's __serach()__ method to create a match object.\n",
        "- Call the match object's __group()__ method to get the matched string.\n",
        "- Call _findall()__ method to get result on all matched strings returned in a list.\n",
        "- \\d is the regex for a numeric digit character."
      ]
    },
    {
      "cell_type": "code",
      "metadata": {
        "id": "3ehlaZHOKtxn",
        "colab_type": "code",
        "colab": {}
      },
      "source": [
        ""
      ],
      "execution_count": 0,
      "outputs": []
    }
  ]
}