{
 "cells": [
  {
   "cell_type": "code",
   "execution_count": 2,
   "metadata": {},
   "outputs": [
    {
     "name": "stdout",
     "output_type": "stream",
     "text": [
      "Hi Alice!\n",
      "Done\n"
     ]
    }
   ],
   "source": [
    "name = 'Alice'\n",
    "if name == 'Alice':\n",
    "    print('Hi Alice!')\n",
    "print('Done')"
   ]
  },
  {
   "cell_type": "markdown",
   "metadata": {},
   "source": [
    "__if Statments__<br>"
   ]
  },
  {
   "cell_type": "code",
   "execution_count": 5,
   "metadata": {},
   "outputs": [
    {
     "name": "stdout",
     "output_type": "stream",
     "text": [
      "Access granted\n"
     ]
    }
   ],
   "source": [
    "password = 'swordfish'\n",
    "if password == 'swordfish':\n",
    "    print('Access granted')\n",
    "else:\n",
    "    print('Wrong Password')\n",
    "    "
   ]
  },
  {
   "cell_type": "markdown",
   "metadata": {},
   "source": [
    "__else Statments__<br>"
   ]
  },
  {
   "cell_type": "code",
   "execution_count": 10,
   "metadata": {},
   "outputs": [
    {
     "name": "stdout",
     "output_type": "stream",
     "text": [
      "Unlike you, Alice is not an Immortal.\n"
     ]
    }
   ],
   "source": [
    "name = 'Bob'\n",
    "age = 3000\n",
    "if name == 'Alice':\n",
    "    print('Hi Alice!')\n",
    "elif age < 12:\n",
    "    print(\"You're not Alice, kiddo.\")\n",
    "elif age > 2000:\n",
    "    print('Unlike you, Alice is not an Immortal.')\n",
    "elif age > 100:\n",
    "    print(\"Yo grannie, you're not Alice!\")\n"
   ]
  },
  {
   "cell_type": "markdown",
   "metadata": {},
   "source": [
    "__elif Statments__<br>"
   ]
  },
  {
   "cell_type": "markdown",
   "metadata": {},
   "source": [
    "__To recap__<br>\n",
    "\n",
    "- An __if__ statement can be used to conditionally execute code, depending on whether or not the __if__ statement's conditon is True or False.<br>\n",
    "- An __elif__ (that is, \"else if\") statement can follow an __if__ statement. Its block executes if the __if__ statement condition is __True__ and all previous comditions have been __False__.<br>\n",
    "- An __else__ statement comes at the end. The block of an __else__ statement is executed if all of the previous conditions have been __False__.<br>\n",
    "- The values __0, 0.0__ and the __empty string ('')__ are considered to be __Falsey__ values. When used in conditions they are considered __False__. You can always see for yourself which values are __Truthey__ or __Falsey__ by passing them to the __bool()__ function.\n"
   ]
  },
  {
   "cell_type": "code",
   "execution_count": null,
   "metadata": {},
   "outputs": [],
   "source": []
  },
  {
   "cell_type": "code",
   "execution_count": null,
   "metadata": {},
   "outputs": [],
   "source": []
  }
 ],
 "metadata": {
  "kernelspec": {
   "display_name": "Python 3",
   "language": "python",
   "name": "python3"
  },
  "language_info": {
   "codemirror_mode": {
    "name": "ipython",
    "version": 3
   },
   "file_extension": ".py",
   "mimetype": "text/x-python",
   "name": "python",
   "nbconvert_exporter": "python",
   "pygments_lexer": "ipython3",
   "version": "3.7.3"
  }
 },
 "nbformat": 4,
 "nbformat_minor": 2
}
