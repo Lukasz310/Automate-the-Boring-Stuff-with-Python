{
 "cells": [
  {
   "cell_type": "code",
   "execution_count": null,
   "metadata": {},
   "outputs": [
    {
     "name": "stdout",
     "output_type": "stream",
     "text": [
      "Hello World\n",
      "What is your name?\n"
     ]
    }
   ],
   "source": [
    "# This program says hello and asks for my name\n",
    "\n",
    "print('Hello World')\n",
    "\n",
    "print('What is your name?') # asks for their age\n",
    "myName = input()\n",
    "print(\"It's good to meet meet you, \" + myName)\n",
    "print('The length of your name is:')\n",
    "print(len(myName))\n",
    "\n",
    "print('What is your age?') # asks for their age\n",
    "myAge = input()\n",
    "print('You will be ' + str(int(myAge) +1) + ' in a year.')"
   ]
  },
  {
   "cell_type": "markdown",
   "metadata": {},
   "source": [
    "__Functions in this code are:__<br>\n",
    "- print()<br>\n",
    "- input()<br>\n",
    "- len()<br>\n",
    "- str()<br>\n",
    "- int()<br>\n",
    "\n",
    "__Arguments in this code are__:<br>\n",
    "_Values passed to functions, inside the parentheses_<br>\n",
    "- print() <- Displays the value passed to it.<br>\n",
    "- input() <- Let's user type in a value and returns a str value.<br>\n",
    "- len() <- takes a string value and returns an int value of the strings's length.<br> \n",
    "- str() <- converts any value type, int or float, to a str type value.<br>\n",
    "- int() <- converts any value type, str or float, to a int type value. <br>\n",
    "    \n",
    "    \n",
    "    \n"
   ]
  },
  {
   "cell_type": "code",
   "execution_count": null,
   "metadata": {},
   "outputs": [],
   "source": []
  }
 ],
 "metadata": {
  "kernelspec": {
   "display_name": "Python 3",
   "language": "python",
   "name": "python3"
  },
  "language_info": {
   "codemirror_mode": {
    "name": "ipython",
    "version": 3
   },
   "file_extension": ".py",
   "mimetype": "text/x-python",
   "name": "python",
   "nbconvert_exporter": "python",
   "pygments_lexer": "ipython3",
   "version": "3.7.3"
  }
 },
 "nbformat": 4,
 "nbformat_minor": 2
}
