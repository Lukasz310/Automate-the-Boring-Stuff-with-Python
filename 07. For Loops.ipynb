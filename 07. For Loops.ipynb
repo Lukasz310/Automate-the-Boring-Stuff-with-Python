{
 "cells": [
  {
   "cell_type": "code",
   "execution_count": 1,
   "metadata": {},
   "outputs": [
    {
     "name": "stdout",
     "output_type": "stream",
     "text": [
      "My name is\n",
      "Jimmy five times 0\n",
      "Jimmy five times 1\n",
      "Jimmy five times 2\n",
      "Jimmy five times 3\n",
      "Jimmy five times 4\n"
     ]
    }
   ],
   "source": [
    "print('My name is')\n",
    "for i in range(5):\n",
    "    print('Jimmy five times ' + str(i))"
   ]
  },
  {
   "cell_type": "code",
   "execution_count": 2,
   "metadata": {},
   "outputs": [
    {
     "name": "stdout",
     "output_type": "stream",
     "text": [
      "5050\n"
     ]
    }
   ],
   "source": [
    "total = 0\n",
    "for num in range(101):\n",
    "    total = total + num\n",
    "print(total)\n",
    "    "
   ]
  },
  {
   "cell_type": "code",
   "execution_count": 3,
   "metadata": {},
   "outputs": [
    {
     "name": "stdout",
     "output_type": "stream",
     "text": [
      "My name is\n",
      "Jimmy five times 12\n",
      "Jimmy five times 13\n",
      "Jimmy five times 14\n",
      "Jimmy five times 15\n"
     ]
    }
   ],
   "source": [
    "print('My name is')\n",
    "for i in range(12, 16):\n",
    "    print('Jimmy five times ' + str(i))"
   ]
  },
  {
   "cell_type": "markdown",
   "metadata": {},
   "source": [
    "To recap:<br>\n",
    "- __for loop__ will loop a specific number of times.<br>\n",
    "- The __range()__ function can be called with one, two, or three arguments:\n",
    " - one argument -> __range(5)__ means: _start at 0 up to, but not including, 5_\n",
    " - two arguments -> __range(0,5)__ means: _start at 0, end at, but not including 5_\n",
    " - three arguments -> __range(0,10,2)__ means: _start at 0, end at, but not including, 10. take steps of 2_\n",
    "- __break__ and __continue__ can be used in __for loops__."
   ]
  },
  {
   "cell_type": "code",
   "execution_count": null,
   "metadata": {},
   "outputs": [],
   "source": []
  }
 ],
 "metadata": {
  "kernelspec": {
   "display_name": "Python 3",
   "language": "python",
   "name": "python3"
  },
  "language_info": {
   "codemirror_mode": {
    "name": "ipython",
    "version": 3
   },
   "file_extension": ".py",
   "mimetype": "text/x-python",
   "name": "python",
   "nbconvert_exporter": "python",
   "pygments_lexer": "ipython3",
   "version": "3.7.3"
  }
 },
 "nbformat": 4,
 "nbformat_minor": 2
}
