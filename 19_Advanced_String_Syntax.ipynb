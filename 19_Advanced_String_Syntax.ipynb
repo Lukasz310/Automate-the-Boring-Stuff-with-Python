{
  "nbformat": 4,
  "nbformat_minor": 0,
  "metadata": {
    "colab": {
      "name": "19. Advanced_String_Syntax",
      "provenance": [],
      "collapsed_sections": [],
      "include_colab_link": true
    },
    "kernelspec": {
      "name": "python3",
      "display_name": "Python 3"
    }
  },
  "cells": [
    {
      "cell_type": "markdown",
      "metadata": {
        "id": "view-in-github",
        "colab_type": "text"
      },
      "source": [
        "<a href=\"https://colab.research.google.com/github/Lukasz310/Automate-the-Boring-Stuff-with-Python/blob/master/19_Advanced_String_Syntax.ipynb\" target=\"_parent\"><img src=\"https://colab.research.google.com/assets/colab-badge.svg\" alt=\"Open In Colab\"/></a>"
      ]
    },
    {
      "cell_type": "code",
      "metadata": {
        "id": "Oo6d4CdlHiPm",
        "colab_type": "code",
        "colab": {}
      },
      "source": [
        ""
      ],
      "execution_count": 0,
      "outputs": []
    },
    {
      "cell_type": "markdown",
      "metadata": {
        "id": "hUB8nJr8Rj_O",
        "colab_type": "text"
      },
      "source": [
        "[Manipulating Strings](https://automatetheboringstuff.com/chapter6/)\n",
        "\n",
        "To recap:\n",
        "- Strings can begin and end with double quotes.\n",
        "- Escape characters let you put quotes and other characters that are hard to type inside strings.\n",
        "- Raw strings will literally print any backlashes in the string and ignore escape characters.\n",
        "- Multiline strings being and end with three quotes, and can span multiple lines.\n",
        "-Indexes, slices, and the in and not in operators all work with strings.  "
      ]
    }
  ]
}