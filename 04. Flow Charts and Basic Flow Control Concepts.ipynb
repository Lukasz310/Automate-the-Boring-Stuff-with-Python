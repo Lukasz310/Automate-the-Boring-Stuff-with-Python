{
 "cells": [
  {
   "cell_type": "markdown",
   "metadata": {},
   "source": [
    "__Boolean Values__<br>\n",
    "- Boolean Datatype has only 2 values: True or False.<br>\n",
    "- Can be stored in variables as: True.  <- _capital 1st letter and rest minor_<br>\n",
    "  spam = True<br>\n",
    "__Comparison Operators__<br>\n",
    "- There are six Comparison Operators:<br>\n",
    "\n",
    "| Operator | Meaning |\n",
    "| --- | --- |\n",
    "| == | Equal to |\n",
    "| != | Not equal to |\n",
    "| < | Less than |\n",
    "| > | Greater Than |\n",
    "| <= | Less than or equal to |\n",
    "| >= | Greater than or equal to |\n",
    "\n",
    "- Int and str are never equal to eachother<br>\n",
    "- Int and float, of the same value are equal to eachother (42 = 42.0)<br>\n",
    "- == is comparison, = is assignment\n",
    "\n",
    "__Boolean Operators__<br>\n",
    "- __and__, __or__ and __not__<br>\n",
    "- The __and__ Operator' truth table:<br>\n",
    "\n",
    "| Expression | Evaluates to... |\n",
    "| --- | --- |\n",
    "| True __and__ True | True |\n",
    "| True __and__ False | False |\n",
    "| False __and__ True | False |\n",
    "| False __and__ False | False |\n",
    "\n",
    "- The __or__ Operator' truth table:<br>\n",
    "\n",
    "| Expression | Evaluates to... |\n",
    "| --- | --- |\n",
    "| True __or__ True | True |\n",
    "| True __or__ False | True |\n",
    "| False __or__ True | True |\n",
    "| False __or__ False | False |\n",
    "\n",
    "- The __not__ Operator' truth table:<br>\n",
    "\n",
    "| Expression | Evaluates to... |\n",
    "| --- | --- |\n",
    "| __not__ True | False |\n",
    "| __not__ False | True |\n",
    "\n"
   ]
  },
  {
   "cell_type": "code",
   "execution_count": null,
   "metadata": {},
   "outputs": [],
   "source": []
  },
  {
   "cell_type": "markdown",
   "metadata": {},
   "source": []
  }
 ],
 "metadata": {
  "kernelspec": {
   "display_name": "Python 3",
   "language": "python",
   "name": "python3"
  },
  "language_info": {
   "codemirror_mode": {
    "name": "ipython",
    "version": 3
   },
   "file_extension": ".py",
   "mimetype": "text/x-python",
   "name": "python",
   "nbconvert_exporter": "python",
   "pygments_lexer": "ipython3",
   "version": "3.7.3"
  }
 },
 "nbformat": 4,
 "nbformat_minor": 2
}
