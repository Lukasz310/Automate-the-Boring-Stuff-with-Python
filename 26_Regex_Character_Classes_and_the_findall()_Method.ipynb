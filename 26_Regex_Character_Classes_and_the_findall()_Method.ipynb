{
  "nbformat": 4,
  "nbformat_minor": 0,
  "metadata": {
    "colab": {
      "name": "26. Regex Character Classes and the findall() Method",
      "provenance": [],
      "collapsed_sections": [],
      "authorship_tag": "ABX9TyP33uzBxgub9aPusHOLEgLq",
      "include_colab_link": true
    },
    "kernelspec": {
      "name": "python3",
      "display_name": "Python 3"
    }
  },
  "cells": [
    {
      "cell_type": "markdown",
      "metadata": {
        "id": "view-in-github",
        "colab_type": "text"
      },
      "source": [
        "<a href=\"https://colab.research.google.com/github/Lukasz310/Automate-the-Boring-Stuff-with-Python/blob/master/26_Regex_Character_Classes_and_the_findall()_Method.ipynb\" target=\"_parent\"><img src=\"https://colab.research.google.com/assets/colab-badge.svg\" alt=\"Open In Colab\"/></a>"
      ]
    },
    {
      "cell_type": "code",
      "metadata": {
        "id": "JFq4hzslicZk",
        "colab_type": "code",
        "colab": {
          "base_uri": "https://localhost:8080/",
          "height": 34
        },
        "outputId": "61415432-a526-4fad-8115-d045ca0d60cf"
      },
      "source": [
        "import re\n",
        "phoneRegex = re.compile(r'\\d\\d\\d-\\d\\d\\d-\\d\\d\\d\\d')\n",
        "phoneRegex"
      ],
      "execution_count": 1,
      "outputs": [
        {
          "output_type": "execute_result",
          "data": {
            "text/plain": [
              "re.compile(r'\\d\\d\\d-\\d\\d\\d-\\d\\d\\d\\d', re.UNICODE)"
            ]
          },
          "metadata": {
            "tags": []
          },
          "execution_count": 1
        }
      ]
    },
    {
      "cell_type": "code",
      "metadata": {
        "id": "IcgVO29wizwI",
        "colab_type": "code",
        "colab": {
          "base_uri": "https://localhost:8080/",
          "height": 34
        },
        "outputId": "95720759-cf6e-4298-9a2f-e38ddc582bf9"
      },
      "source": [
        "resume = ''' \n",
        "555-100-0000\n",
        "555-200-0000\n",
        "555-300-0000\n",
        "555-400-0000\n",
        "\n",
        "''' \n",
        "phoneRegex.search(resume) # returns Match Objects"
      ],
      "execution_count": 7,
      "outputs": [
        {
          "output_type": "execute_result",
          "data": {
            "text/plain": [
              "<_sre.SRE_Match object; span=(2, 14), match='555-100-0000'>"
            ]
          },
          "metadata": {
            "tags": []
          },
          "execution_count": 7
        }
      ]
    },
    {
      "cell_type": "code",
      "metadata": {
        "id": "jIB2iJEljuJ5",
        "colab_type": "code",
        "colab": {
          "base_uri": "https://localhost:8080/",
          "height": 34
        },
        "outputId": "160dbb43-b70d-471b-a682-09b2d45d70f1"
      },
      "source": [
        "phoneRegex.findall(resume) # returns a list of strings"
      ],
      "execution_count": 8,
      "outputs": [
        {
          "output_type": "execute_result",
          "data": {
            "text/plain": [
              "['555-100-0000', '555-200-0000', '555-300-0000', '555-400-0000']"
            ]
          },
          "metadata": {
            "tags": []
          },
          "execution_count": 8
        }
      ]
    },
    {
      "cell_type": "code",
      "metadata": {
        "id": "S2tHjxHfkgCb",
        "colab_type": "code",
        "colab": {
          "base_uri": "https://localhost:8080/",
          "height": 85
        },
        "outputId": "a07d885b-95b1-4913-d666-93c74e862994"
      },
      "source": [
        "phoneRegex = re.compile(r'(\\d\\d\\d)-(\\d\\d\\d-\\d\\d\\d\\d)') # Note the regex group\n",
        "phoneRegex.findall(resume) # returns a list of Tupels where the regex groups are defined by strings"
      ],
      "execution_count": 11,
      "outputs": [
        {
          "output_type": "execute_result",
          "data": {
            "text/plain": [
              "[('555-100-0000', '555', '100-0000'),\n",
              " ('555-200-0000', '555', '200-0000'),\n",
              " ('555-300-0000', '555', '300-0000'),\n",
              " ('555-400-0000', '555', '400-0000')]"
            ]
          },
          "metadata": {
            "tags": []
          },
          "execution_count": 11
        }
      ]
    },
    {
      "cell_type": "code",
      "metadata": {
        "id": "743tfu9kmxt8",
        "colab_type": "code",
        "colab": {}
      },
      "source": [
        "# findall() method will return a List if the variable doesn't have regex groups defined by parentheses.\n",
        "# findall() methos will return a List of Tupels when the varialbe has a regex group definded by parentheses"
      ],
      "execution_count": 0,
      "outputs": []
    },
    {
      "cell_type": "code",
      "metadata": {
        "id": "2FZVYjA3n0mp",
        "colab_type": "code",
        "colab": {
          "base_uri": "https://localhost:8080/",
          "height": 221
        },
        "outputId": "c2b1219c-46cd-4981-b76c-c883560f342f"
      },
      "source": [
        "lyrics = '12 drummers drumming, 11 pipers piping, 10 lords a leaping, 9 ladies dancing, 8 maids a milking, 7 swans a swimming, 6 geese a laying, 5 gold rings, badam-pam-pam, 4 calling birds, 3 French hens, 2 turtle doves, And 1 partridge in a pear tree'  \n",
        "xmasRegex = re.compile(r'\\d+\\s\\w+')\n",
        "xmasRegex.findall(lyrics)"
      ],
      "execution_count": 19,
      "outputs": [
        {
          "output_type": "execute_result",
          "data": {
            "text/plain": [
              "['12 drummers',\n",
              " '11 pipers',\n",
              " '10 lords',\n",
              " '9 ladies',\n",
              " '8 maids',\n",
              " '7 swans',\n",
              " '6 geese',\n",
              " '5 gold',\n",
              " '4 calling',\n",
              " '3 French',\n",
              " '2 turtle',\n",
              " '1 partridge']"
            ]
          },
          "metadata": {
            "tags": []
          },
          "execution_count": 19
        }
      ]
    },
    {
      "cell_type": "code",
      "metadata": {
        "id": "cwmzSg8cp4_V",
        "colab_type": "code",
        "colab": {
          "base_uri": "https://localhost:8080/",
          "height": 34
        },
        "outputId": "414e87d4-1ccb-4605-f08f-0980991138ae"
      },
      "source": [
        "# defines regex query for all the characters included in the .compile method\n",
        "vowelRegex = re.compile(r'[aeiouAEIOU]') \n",
        "vowelRegex.findall('Robocop eats babyfood')"
      ],
      "execution_count": 20,
      "outputs": [
        {
          "output_type": "execute_result",
          "data": {
            "text/plain": [
              "['o', 'o', 'o', 'e', 'a', 'a', 'o', 'o']"
            ]
          },
          "metadata": {
            "tags": []
          },
          "execution_count": 20
        }
      ]
    },
    {
      "cell_type": "code",
      "metadata": {
        "id": "Hun9SGMBrGXU",
        "colab_type": "code",
        "colab": {
          "base_uri": "https://localhost:8080/",
          "height": 34
        },
        "outputId": "cc30ee8d-d13d-4584-f869-7ccb19ede20d"
      },
      "source": [
        "# defines regex query for all the characters NOT included in the .compile method\n",
        "# Including space\n",
        "vowelRegex = re.compile(r'[^aeiouAEIOU]') \n",
        "vowelRegex.findall('Robocop eats babyfood')"
      ],
      "execution_count": 21,
      "outputs": [
        {
          "output_type": "execute_result",
          "data": {
            "text/plain": [
              "['R', 'b', 'c', 'p', ' ', 't', 's', ' ', 'b', 'b', 'y', 'f', 'd']"
            ]
          },
          "metadata": {
            "tags": []
          },
          "execution_count": 21
        }
      ]
    },
    {
      "cell_type": "markdown",
      "metadata": {
        "id": "U45Ct6MoLV6z",
        "colab_type": "text"
      },
      "source": [
        "To Recap:\n",
        "- The regex method findall() is passed to a string, and returns all matches, not just the first match\n",
        "- If the regex has 0 or 1 group, findall() returns a list of strings.\n",
        "- If the regex has 2 or more groups, findall() returns a list of tupels of strings\n",
        "- \\d is a shorthand character class that matches digits. \\w matches word characters. \\s matches whitespace characters.\n",
        "- The uppercase shorthand character classes \\D, \\W, \\S matche characters that are NOT digits, word characters and spaces.\n",
        "- You can make your own character classes with square brackets: [aeiou]\n",
        "- A ^ caret makes it a negative character class, matching anything not in the brackets [AEIOU]"
      ]
    },
    {
      "cell_type": "code",
      "metadata": {
        "id": "Y48fWKt8M4X2",
        "colab_type": "code",
        "colab": {}
      },
      "source": [
        ""
      ],
      "execution_count": 0,
      "outputs": []
    }
  ]
}