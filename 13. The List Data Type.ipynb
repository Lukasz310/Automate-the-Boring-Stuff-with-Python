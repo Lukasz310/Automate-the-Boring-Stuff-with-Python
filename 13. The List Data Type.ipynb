{
 "cells": [
  {
   "cell_type": "markdown",
   "metadata": {},
   "source": [
    "- List is a value that contains values in an ordered sequence\n",
    "- Values inside a list are sometimes called items\n",
    "- begins and ends with string brackets [] \n",
    "- values in lists are comma delimited\n",
    "- You can access items in a list with it's integer index.\n",
    "- The indexes start at 0, not 1.\n",
    "- You can also use  negative indexes. -1 refers to the last item, -2 refers to the second to last item, and so on.\n",
    "- You can get multiple items from the list using a slice.\n",
    "- The slice has two indexes> Th e new list's items start at the first index and go up to, but doesn't include, the second index. \n",
    "- The len() function, contenation, and replication work the same way with lists that they do with strings.\n",
    "- You can convert a value into a list by passing it to the list() function.\n"
   ]
  },
  {
   "cell_type": "code",
   "execution_count": null,
   "metadata": {},
   "outputs": [],
   "source": []
  }
 ],
 "metadata": {
  "kernelspec": {
   "display_name": "Python 3",
   "language": "python",
   "name": "python3"
  },
  "language_info": {
   "codemirror_mode": {
    "name": "ipython",
    "version": 3
   },
   "file_extension": ".py",
   "mimetype": "text/x-python",
   "name": "python",
   "nbconvert_exporter": "python",
   "pygments_lexer": "ipython3",
   "version": "3.7.3"
  }
 },
 "nbformat": 4,
 "nbformat_minor": 2
}
