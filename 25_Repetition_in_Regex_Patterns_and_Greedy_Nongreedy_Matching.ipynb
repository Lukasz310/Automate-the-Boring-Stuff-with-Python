{
  "nbformat": 4,
  "nbformat_minor": 0,
  "metadata": {
    "colab": {
      "name": "25. Repetition in Regex Patterns and Greedy/Nongreedy Matching",
      "provenance": [],
      "collapsed_sections": [],
      "authorship_tag": "ABX9TyPo4sPTXsArYj3oxJ6OHbzN",
      "include_colab_link": true
    },
    "kernelspec": {
      "name": "python3",
      "display_name": "Python 3"
    }
  },
  "cells": [
    {
      "cell_type": "markdown",
      "metadata": {
        "id": "view-in-github",
        "colab_type": "text"
      },
      "source": [
        "<a href=\"https://colab.research.google.com/github/Lukasz310/Automate-the-Boring-Stuff-with-Python/blob/master/25_Repetition_in_Regex_Patterns_and_Greedy_Nongreedy_Matching.ipynb\" target=\"_parent\"><img src=\"https://colab.research.google.com/assets/colab-badge.svg\" alt=\"Open In Colab\"/></a>"
      ]
    },
    {
      "cell_type": "code",
      "metadata": {
        "id": "_drjh1NgAtXQ",
        "colab_type": "code",
        "colab": {
          "base_uri": "https://localhost:8080/",
          "height": 34
        },
        "outputId": "2ec39a6e-f7dd-438f-8aef-ac1b452aefb4"
      },
      "source": [
        "import re\n",
        "batRegex = re.compile(r'Bat(wo)?man') \n",
        "# questionmark '?' : means paatern appears zero or one time to match (wo)\n",
        "mo = batRegex.search('The Adventures of Batwoman') # (wo) appears one time here\n",
        "mo.group()"
      ],
      "execution_count": 1,
      "outputs": [
        {
          "output_type": "execute_result",
          "data": {
            "text/plain": [
              "'Batwoman'"
            ]
          },
          "metadata": {
            "tags": []
          },
          "execution_count": 1
        }
      ]
    },
    {
      "cell_type": "code",
      "metadata": {
        "id": "qSAnnBNYA9Xn",
        "colab_type": "code",
        "colab": {
          "base_uri": "https://localhost:8080/",
          "height": 34
        },
        "outputId": "08a41d88-edba-474e-f5cd-bdc9646ae54d"
      },
      "source": [
        "mo = batRegex.search('The Adventures of Batman') # (wo) appears zero times here\n",
        "mo.group()"
      ],
      "execution_count": 3,
      "outputs": [
        {
          "output_type": "execute_result",
          "data": {
            "text/plain": [
              "'Batman'"
            ]
          },
          "metadata": {
            "tags": []
          },
          "execution_count": 3
        }
      ]
    },
    {
      "cell_type": "code",
      "metadata": {
        "id": "bjdbKcN7CBb2",
        "colab_type": "code",
        "colab": {
          "base_uri": "https://localhost:8080/",
          "height": 34
        },
        "outputId": "602c5740-f007-480a-a7fb-2ba6d55268c1"
      },
      "source": [
        "phoneRegex = re.compile(r'\\d\\d\\d-\\d\\d\\d-\\d\\d\\d\\d')\n",
        "mo = phoneRegex.search('My phone number is 415-555-1234')\n",
        "mo.group()"
      ],
      "execution_count": 6,
      "outputs": [
        {
          "output_type": "execute_result",
          "data": {
            "text/plain": [
              "'415-555-1234'"
            ]
          },
          "metadata": {
            "tags": []
          },
          "execution_count": 6
        }
      ]
    },
    {
      "cell_type": "code",
      "metadata": {
        "id": "ZnbsLyveCtPo",
        "colab_type": "code",
        "colab": {
          "base_uri": "https://localhost:8080/",
          "height": 34
        },
        "outputId": "aacf1356-bfee-4f70-90f5-c07f7b394796"
      },
      "source": [
        "mo = phoneRegex.search('My phone number is 555-1234')\n",
        "mo == None"
      ],
      "execution_count": 8,
      "outputs": [
        {
          "output_type": "execute_result",
          "data": {
            "text/plain": [
              "True"
            ]
          },
          "metadata": {
            "tags": []
          },
          "execution_count": 8
        }
      ]
    },
    {
      "cell_type": "code",
      "metadata": {
        "id": "n4nckyZEDUlH",
        "colab_type": "code",
        "colab": {
          "base_uri": "https://localhost:8080/",
          "height": 34
        },
        "outputId": "68c0a0ca-fae1-4231-a3b7-5d9af07bf0b8"
      },
      "source": [
        "phoneRegex = re.compile(r'(\\d\\d\\d-)?\\d\\d\\d-\\d\\d\\d\\d') # group 1 in string is to appear zero or one time\n",
        "phoneRegex.search('My phone number is 415-555-1234') # group 1 appears one time"
      ],
      "execution_count": 11,
      "outputs": [
        {
          "output_type": "execute_result",
          "data": {
            "text/plain": [
              "<_sre.SRE_Match object; span=(19, 31), match='415-555-1234'>"
            ]
          },
          "metadata": {
            "tags": []
          },
          "execution_count": 11
        }
      ]
    },
    {
      "cell_type": "code",
      "metadata": {
        "id": "ku1QXlmTDkek",
        "colab_type": "code",
        "colab": {
          "base_uri": "https://localhost:8080/",
          "height": 34
        },
        "outputId": "a1c0e006-9296-49f9-ff85-8bc017673a23"
      },
      "source": [
        "phoneRegex = re.compile(r'(\\d\\d\\d-)?\\d\\d\\d-\\d\\d\\d\\d') # group 1 in string is to appear zero or one time\n",
        "phoneRegex.search('My phone number is 555-1234') # group 1 appears zero times"
      ],
      "execution_count": 12,
      "outputs": [
        {
          "output_type": "execute_result",
          "data": {
            "text/plain": [
              "<_sre.SRE_Match object; span=(19, 27), match='555-1234'>"
            ]
          },
          "metadata": {
            "tags": []
          },
          "execution_count": 12
        }
      ]
    },
    {
      "cell_type": "code",
      "metadata": {
        "id": "hldjkjHUIqPl",
        "colab_type": "code",
        "colab": {}
      },
      "source": [
        "# If you want a regex object for the text \"dinner?\" (With the question mark), you would call:\n",
        "# re.compile(r'dinner\\?') # note the slash in \\?\n",
        "\n",
        "# (in the above case, \"dinner\" is not optional, we are literally looking for a question mark: \"dinner?\""
      ],
      "execution_count": 0,
      "outputs": []
    },
    {
      "cell_type": "code",
      "metadata": {
        "id": "UtPBj5Y9F2FH",
        "colab_type": "code",
        "colab": {
          "base_uri": "https://localhost:8080/",
          "height": 34
        },
        "outputId": "a52b953b-f3bf-4cbc-8543-a43aaf348a86"
      },
      "source": [
        "# asteriks '*' : means pattern appears zero or multiple times to match (wo)\n",
        "batRegex = re.compile(r'Bat(wo)*man') \n",
        "batRegex.search('The Adventures of Batman') # (wo) appears zero times here"
      ],
      "execution_count": 14,
      "outputs": [
        {
          "output_type": "execute_result",
          "data": {
            "text/plain": [
              "<_sre.SRE_Match object; span=(18, 24), match='Batman'>"
            ]
          },
          "metadata": {
            "tags": []
          },
          "execution_count": 14
        }
      ]
    },
    {
      "cell_type": "code",
      "metadata": {
        "id": "21C7ACmfH7gp",
        "colab_type": "code",
        "colab": {
          "base_uri": "https://localhost:8080/",
          "height": 34
        },
        "outputId": "aaa8e34e-424f-4dd2-bead-06c3c2716c41"
      },
      "source": [
        "batRegex.search('The Adventures of Batwoman') # (wo) appears one time here"
      ],
      "execution_count": 15,
      "outputs": [
        {
          "output_type": "execute_result",
          "data": {
            "text/plain": [
              "<_sre.SRE_Match object; span=(18, 26), match='Batwoman'>"
            ]
          },
          "metadata": {
            "tags": []
          },
          "execution_count": 15
        }
      ]
    },
    {
      "cell_type": "code",
      "metadata": {
        "id": "4tqpF4ekIPl1",
        "colab_type": "code",
        "colab": {
          "base_uri": "https://localhost:8080/",
          "height": 34
        },
        "outputId": "f8a37f80-35b9-436d-f9f5-f19f0ad7702b"
      },
      "source": [
        "batRegex.search('The Adventures of Batwowowowowowowowoman') # (wo) appears multiple times here"
      ],
      "execution_count": 16,
      "outputs": [
        {
          "output_type": "execute_result",
          "data": {
            "text/plain": [
              "<_sre.SRE_Match object; span=(18, 40), match='Batwowowowowowowowoman'>"
            ]
          },
          "metadata": {
            "tags": []
          },
          "execution_count": 16
        }
      ]
    },
    {
      "cell_type": "code",
      "metadata": {
        "id": "xwpAxZwhI2m0",
        "colab_type": "code",
        "colab": {
          "base_uri": "https://localhost:8080/",
          "height": 34
        },
        "outputId": "4fbbc0c1-3502-4390-9a33-6413c5d12299"
      },
      "source": [
        "# plus '+' : means pattern zero or multiple times to match (wo)\n",
        "batRegex = re.compile(r'Bat(wo)+man') \n",
        "batRegex.search('The Adventures of Batman') == None # (wo) appears zero times here"
      ],
      "execution_count": 25,
      "outputs": [
        {
          "output_type": "execute_result",
          "data": {
            "text/plain": [
              "True"
            ]
          },
          "metadata": {
            "tags": []
          },
          "execution_count": 25
        }
      ]
    },
    {
      "cell_type": "code",
      "metadata": {
        "id": "Y4K1Xw8wKO5M",
        "colab_type": "code",
        "colab": {
          "base_uri": "https://localhost:8080/",
          "height": 34
        },
        "outputId": "0616b074-8923-4f29-8438-a4398a5a3f69"
      },
      "source": [
        "batRegex.search('The Adventures of Batwoman') # (wo) appears one time here"
      ],
      "execution_count": 22,
      "outputs": [
        {
          "output_type": "execute_result",
          "data": {
            "text/plain": [
              "<_sre.SRE_Match object; span=(18, 26), match='Batwoman'>"
            ]
          },
          "metadata": {
            "tags": []
          },
          "execution_count": 22
        }
      ]
    },
    {
      "cell_type": "code",
      "metadata": {
        "id": "MPTT9fcPKYKl",
        "colab_type": "code",
        "colab": {
          "base_uri": "https://localhost:8080/",
          "height": 34
        },
        "outputId": "468ec571-1634-4b41-b00d-feb50c904e52"
      },
      "source": [
        "batRegex.search('The Adventures of Batwowowowowowowowoman') # (wo) appears multiple times here"
      ],
      "execution_count": 23,
      "outputs": [
        {
          "output_type": "execute_result",
          "data": {
            "text/plain": [
              "<_sre.SRE_Match object; span=(18, 40), match='Batwowowowowowowowoman'>"
            ]
          },
          "metadata": {
            "tags": []
          },
          "execution_count": 23
        }
      ]
    },
    {
      "cell_type": "code",
      "metadata": {
        "id": "LmgV1pUqKdAs",
        "colab_type": "code",
        "colab": {
          "base_uri": "https://localhost:8080/",
          "height": 34
        },
        "outputId": "3c142d3f-cacc-4dfa-c136-5e0a88b48ca9"
      },
      "source": [
        "# If you need a literal question mark or a star or a plus sign in your string you can escape it witha a slash '\\'\n",
        "# \\? \\* \\+\n",
        "regex = re.compile(r'\\+\\*\\?')\n",
        "regex.search('I learned about +*? regex syntax')"
      ],
      "execution_count": 26,
      "outputs": [
        {
          "output_type": "execute_result",
          "data": {
            "text/plain": [
              "<_sre.SRE_Match object; span=(16, 19), match='+*?'>"
            ]
          },
          "metadata": {
            "tags": []
          },
          "execution_count": 26
        }
      ]
    },
    {
      "cell_type": "code",
      "metadata": {
        "id": "KvfMjjF7LDWY",
        "colab_type": "code",
        "colab": {
          "base_uri": "https://localhost:8080/",
          "height": 34
        },
        "outputId": "3578ee3f-ff52-4060-cf5e-2fe00ee16588"
      },
      "source": [
        "# curly braces '{}' : means pattern appears exact times to match (ha)\n",
        "haRegex = re.compile(r'(Ha){3}')\n",
        "haRegex.search('He said \"HaHaHa\"')"
      ],
      "execution_count": 29,
      "outputs": [
        {
          "output_type": "execute_result",
          "data": {
            "text/plain": [
              "<_sre.SRE_Match object; span=(9, 15), match='HaHaHa'>"
            ]
          },
          "metadata": {
            "tags": []
          },
          "execution_count": 29
        }
      ]
    },
    {
      "cell_type": "code",
      "metadata": {
        "id": "o025Eln9L3lE",
        "colab_type": "code",
        "colab": {}
      },
      "source": [
        "# curly braces '{}' : means pattern appears exact {x} times to match (x means times)"
      ],
      "execution_count": 0,
      "outputs": []
    },
    {
      "cell_type": "code",
      "metadata": {
        "id": "2YxjnAnpP5YB",
        "colab_type": "code",
        "colab": {
          "base_uri": "https://localhost:8080/",
          "height": 34
        },
        "outputId": "7492f180-3c0c-4969-a671-ba87b5ebfc78"
      },
      "source": [
        "phoneRegex = re.compile(r'((\\d\\d\\d-)?\\d\\d\\d-\\d\\d\\d\\d(, )?){3}')  \n",
        "phoneRegex.search('My phone numbers are 415-555-1234, 554-5678, 231-456-7890') # The phone number pattern groups match exactly 3 times"
      ],
      "execution_count": 37,
      "outputs": [
        {
          "output_type": "execute_result",
          "data": {
            "text/plain": [
              "<_sre.SRE_Match object; span=(21, 57), match='415-555-1234, 554-5678, 231-456-7890'>"
            ]
          },
          "metadata": {
            "tags": []
          },
          "execution_count": 37
        }
      ]
    },
    {
      "cell_type": "code",
      "metadata": {
        "id": "R1ScECLeRL5l",
        "colab_type": "code",
        "colab": {}
      },
      "source": [
        "# You can match to a minimum of x to a maximum of x using {3,5}\n",
        "# minimum of 3 to a maximum of 5\n",
        "# 0 to max 5 would be {,5}\n",
        "# 3 to infinity would be {3,}"
      ],
      "execution_count": 0,
      "outputs": []
    },
    {
      "cell_type": "code",
      "metadata": {
        "id": "W7r5buhIR1pE",
        "colab_type": "code",
        "colab": {
          "base_uri": "https://localhost:8080/",
          "height": 34
        },
        "outputId": "e1b6f8f1-4d0f-4ca6-a3b2-d86b15e4081d"
      },
      "source": [
        "haRegex = re.compile(r'(Ha){3,}')\n",
        "haRegex.search('He said \"HaHaHaHa\"') # matches from 3 "
      ],
      "execution_count": 42,
      "outputs": [
        {
          "output_type": "execute_result",
          "data": {
            "text/plain": [
              "<_sre.SRE_Match object; span=(9, 17), match='HaHaHaHa'>"
            ]
          },
          "metadata": {
            "tags": []
          },
          "execution_count": 42
        }
      ]
    },
    {
      "cell_type": "code",
      "metadata": {
        "id": "IGLC97qBR-Zs",
        "colab_type": "code",
        "colab": {
          "base_uri": "https://localhost:8080/",
          "height": 34
        },
        "outputId": "e689c43c-225c-49aa-84c3-2c1fabf79f15"
      },
      "source": [
        "haRegex = re.compile(r'(Ha){,3}')\n",
        "haRegex.search('He said \"HaHaHaHa\"') "
      ],
      "execution_count": 46,
      "outputs": [
        {
          "output_type": "execute_result",
          "data": {
            "text/plain": [
              "<_sre.SRE_Match object; span=(0, 0), match=''>"
            ]
          },
          "metadata": {
            "tags": []
          },
          "execution_count": 46
        }
      ]
    },
    {
      "cell_type": "code",
      "metadata": {
        "id": "fmLeMWi6IY17",
        "colab_type": "code",
        "colab": {
          "base_uri": "https://localhost:8080/",
          "height": 34
        },
        "outputId": "b754d697-b60a-4f07-8b4f-0ffb72f224de"
      },
      "source": [
        "digitRegex = re.compile(r'(\\d){3,5}') # Default regex match is a Greedy match\n",
        "digitRegex.search('1234567890') # Greedy match returns the maximum correct match of a string "
      ],
      "execution_count": 4,
      "outputs": [
        {
          "output_type": "execute_result",
          "data": {
            "text/plain": [
              "<_sre.SRE_Match object; span=(0, 5), match='12345'>"
            ]
          },
          "metadata": {
            "tags": []
          },
          "execution_count": 4
        }
      ]
    },
    {
      "cell_type": "code",
      "metadata": {
        "id": "JB31ACuNIl_y",
        "colab_type": "code",
        "colab": {
          "base_uri": "https://localhost:8080/",
          "height": 34
        },
        "outputId": "08d083ca-65cb-4ec1-b43f-159b41030328"
      },
      "source": [
        "digitRegex = re.compile(r'(\\d){3,5}?') # Non greedy match is specified by a question mark after curly brace\n",
        "digitRegex.search('1234567890') # Non-Greedy match returns the minimum correct match of a string "
      ],
      "execution_count": 3,
      "outputs": [
        {
          "output_type": "execute_result",
          "data": {
            "text/plain": [
              "<_sre.SRE_Match object; span=(0, 3), match='123'>"
            ]
          },
          "metadata": {
            "tags": []
          },
          "execution_count": 3
        }
      ]
    },
    {
      "cell_type": "markdown",
      "metadata": {
        "id": "xllQK7N8KjIz",
        "colab_type": "text"
      },
      "source": [
        "To Recap:\n",
        "- The '?' says the regex group matches zero or once at the provided string\n",
        "- The '*' says the regex group matches zero or once at the provided string\n",
        "- The '+' says the regex group matches zero or once at the provided string\n",
        "- The curly Braces '{}' can match a specific number of times\n",
        "- The curly braces '{}' with two numbers matches a minimum and maximum numbers of times.\n",
        "- Leaving out the first or the second number in the curly braces means there's no minimum or maximum\n",
        "- Greedy matching match the longest string possible, nongreedy matching match the shortest string possible\n",
        "- Putting a question mark after the curly braces makes it do a nongreedy match."
      ]
    },
    {
      "cell_type": "code",
      "metadata": {
        "id": "na-2poRrLvEA",
        "colab_type": "code",
        "colab": {}
      },
      "source": [
        ""
      ],
      "execution_count": 0,
      "outputs": []
    }
  ]
}