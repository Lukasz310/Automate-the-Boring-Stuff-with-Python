{
  "nbformat": 4,
  "nbformat_minor": 0,
  "metadata": {
    "colab": {
      "name": "16. Similarities between Lists and Strings.ipynb",
      "provenance": [],
      "include_colab_link": true
    },
    "kernelspec": {
      "name": "python3",
      "display_name": "Python 3"
    }
  },
  "cells": [
    {
      "cell_type": "markdown",
      "metadata": {
        "id": "view-in-github",
        "colab_type": "text"
      },
      "source": [
        "<a href=\"https://colab.research.google.com/github/Lukasz310/Automate-the-Boring-Stuff-with-Python/blob/master/16_Similarities_between_Lists_and_Strings.ipynb\" target=\"_parent\"><img src=\"https://colab.research.google.com/assets/colab-badge.svg\" alt=\"Open In Colab\"/></a>"
      ]
    },
    {
      "cell_type": "markdown",
      "metadata": {
        "id": "Z7DC47Q-FI7g",
        "colab_type": "text"
      },
      "source": [
        "- Strings can do a lot of the same things lists can do, but strings are immutable\n",
        "- Immutable values like strings and tupels cannot be modified \"in place\".<br>\n",
        "__Facts and myths about Python names and values:__\n",
        "[Click here](https://youtu.be/_AEJHKGk9ns)\n",
        "- Mutable values like lists can be modified \"in place\".\n",
        "- When passing a list argument to a function, you are actually passing a list reference.\n",
        "- Changes made to a list in a function will affect the list outside the function\n",
        "- Th __\\__ line continuation character can bve used to strech Python instructions across multiple lines."
      ]
    },
    {
      "cell_type": "code",
      "metadata": {
        "id": "_b53yrLgkgaB",
        "colab_type": "code",
        "colab": {}
      },
      "source": [
        ""
      ],
      "execution_count": 0,
      "outputs": []
    }
  ]
}