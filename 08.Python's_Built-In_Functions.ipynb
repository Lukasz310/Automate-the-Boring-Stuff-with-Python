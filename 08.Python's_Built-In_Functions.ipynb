{
 "cells": [
  {
   "cell_type": "markdown",
   "metadata": {},
   "source": [
    "- You can run __import__ modules and get access to new functions.<br>\n",
    "- The modules that come with Python are called the __standard library__, but you can also install third-party modules using the __pip tool.__<br>\n",
    "- The __pyperclip__ third-party module has __copy()__ and __paste()__ functions for reading and writing text to the clipboard.<br>\n",
    "- The __sys.exit()__ function will immediatly quit your program."
   ]
  },
  {
   "cell_type": "code",
   "execution_count": null,
   "metadata": {},
   "outputs": [],
   "source": []
  }
 ],
 "metadata": {
  "kernelspec": {
   "display_name": "Python 3",
   "language": "python",
   "name": "python3"
  },
  "language_info": {
   "codemirror_mode": {
    "name": "ipython",
    "version": 3
   },
   "file_extension": ".py",
   "mimetype": "text/x-python",
   "name": "python",
   "nbconvert_exporter": "python",
   "pygments_lexer": "ipython3",
   "version": "3.7.3"
  }
 },
 "nbformat": 4,
 "nbformat_minor": 2
}
