{
 "cells": [
  {
   "cell_type": "markdown",
   "metadata": {},
   "source": [
    "- For loops iterate over the values in a list\n",
    "- The range() function returns a list-like value, wich can be passed to the list() function if you need an actual list value.\n",
    "- Variables can swap their values using multiple assigment.\n",
    "- Augmented assigment operators like += are used as shortcuts."
   ]
  }
 ],
 "metadata": {
  "kernelspec": {
   "display_name": "Python 3",
   "language": "python",
   "name": "python3"
  },
  "language_info": {
   "codemirror_mode": {
    "name": "ipython",
    "version": 3
   },
   "file_extension": ".py",
   "mimetype": "text/x-python",
   "name": "python",
   "nbconvert_exporter": "python",
   "pygments_lexer": "ipython3",
   "version": "3.7.3"
  }
 },
 "nbformat": 4,
 "nbformat_minor": 2
}
