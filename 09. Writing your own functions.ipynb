{
 "cells": [
  {
   "cell_type": "code",
   "execution_count": 1,
   "metadata": {},
   "outputs": [
    {
     "name": "stdout",
     "output_type": "stream",
     "text": [
      "Howdy!\n",
      "Konichiwa!\n",
      "Hello there!\n",
      "Howdy!\n",
      "Konichiwa!\n",
      "Hello there!\n",
      "Howdy!\n",
      "Konichiwa!\n",
      "Hello there!\n"
     ]
    }
   ],
   "source": [
    "def hello():\n",
    "    print('Howdy!')\n",
    "    print('Konichiwa!')\n",
    "    print('Hello there!')\n",
    "\n",
    "hello()\n",
    "hello()\n",
    "hello()"
   ]
  },
  {
   "cell_type": "code",
   "execution_count": 5,
   "metadata": {},
   "outputs": [
    {
     "name": "stdout",
     "output_type": "stream",
     "text": [
      "Hello Alice\n",
      "Hello Bob\n"
     ]
    }
   ],
   "source": [
    "def hello(name):\n",
    "    print('Hello ' + name)\n",
    "\n",
    "hello('Alice')\n",
    "hello('Bob')\n"
   ]
  },
  {
   "cell_type": "markdown",
   "metadata": {},
   "source": [
    "- Argument = The value passed in the function call ->The string __ALICE__ and __BOB__ inside the function __hello__ are __Arguments__<br>\n",
    "- Parameter = The value inside the function -> The variable with the value of __name__ inside the __hello(name)__ function is a __Parameter__<br>\n",
    "\n"
   ]
  },
  {
   "cell_type": "code",
   "execution_count": 9,
   "metadata": {},
   "outputs": [
    {
     "data": {
      "text/plain": [
       "'Hello as 5 letters in it'"
      ]
     },
     "execution_count": 9,
     "metadata": {},
     "output_type": "execute_result"
    }
   ],
   "source": [
    "'Hello as ' +str(len('hello')) + ' letters in it'\n",
    "# 'Hello as ' +str(5) + ' letters in it'  \n",
    "# len('hello') equals the integer 5\n",
    "# in order to concatenate to a string value we pass it to a str(5) function that returns the integer 5 as a string'5'.\n",
    "# 'Hello as ' '5' + ' letters in it' \n",
    "# Then python concatenates the strings to form:"
   ]
  },
  {
   "cell_type": "markdown",
   "metadata": {},
   "source": [
    "__Return Statement__ : Function calls can be part of expressions because they evaluate to the value returned by the function call "
   ]
  },
  {
   "cell_type": "code",
   "execution_count": 10,
   "metadata": {},
   "outputs": [
    {
     "name": "stdout",
     "output_type": "stream",
     "text": [
      "6\n"
     ]
    }
   ],
   "source": [
    "def plusOne(number):\n",
    "    return number + 1\n",
    "\n",
    "newNumber = plusOne(5)\n",
    "print(newNumber)\n"
   ]
  },
  {
   "cell_type": "markdown",
   "metadata": {},
   "source": [
    "- Functions are like a mini-program inside your program.<br>\n",
    "- The main point of functions is to get rid of duplicate code.<br>\n",
    "- The __def__ statement defines a finction.<br>\n",
    "- The input to functions are __arguments__. The output is the __return value__.<br>\n",
    "- The __parameters__ are the variables in between the function's parenthesis in the def statement. The __arguments__ are assigned to these __parameters__.<br>\n",
    "- The return value is specified using the __return statement__.<br>\n",
    "- Every function has a __return value__. If your function doesn't have a return statement, the default return value is the __None__ value.<br>\n",
    "- __Keyword arguments__ to functions are usually for optional arguments. The print() function has keyword arguments __end__ and __sep__.<br> \n"
   ]
  },
  {
   "cell_type": "code",
   "execution_count": null,
   "metadata": {},
   "outputs": [],
   "source": []
  }
 ],
 "metadata": {
  "kernelspec": {
   "display_name": "Python 3",
   "language": "python",
   "name": "python3"
  },
  "language_info": {
   "codemirror_mode": {
    "name": "ipython",
    "version": 3
   },
   "file_extension": ".py",
   "mimetype": "text/x-python",
   "name": "python",
   "nbconvert_exporter": "python",
   "pygments_lexer": "ipython3",
   "version": "3.7.3"
  }
 },
 "nbformat": 4,
 "nbformat_minor": 2
}
