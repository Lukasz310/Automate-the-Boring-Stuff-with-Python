{
  "nbformat": 4,
  "nbformat_minor": 0,
  "metadata": {
    "colab": {
      "name": "27. Regex Dot-Star and the Caret/Dollar Characters",
      "provenance": [],
      "authorship_tag": "ABX9TyN5dGSlNbnDB3YGmRq/mYqK",
      "include_colab_link": true
    },
    "kernelspec": {
      "name": "python3",
      "display_name": "Python 3"
    }
  },
  "cells": [
    {
      "cell_type": "markdown",
      "metadata": {
        "id": "view-in-github",
        "colab_type": "text"
      },
      "source": [
        "<a href=\"https://colab.research.google.com/github/Lukasz310/Automate-the-Boring-Stuff-with-Python/blob/master/27_Regex_Dot_Star_and_the_Caret_Dollar_Characters.ipynb\" target=\"_parent\"><img src=\"https://colab.research.google.com/assets/colab-badge.svg\" alt=\"Open In Colab\"/></a>"
      ]
    },
    {
      "cell_type": "code",
      "metadata": {
        "id": "VwR8713uNWM2",
        "colab_type": "code",
        "colab": {}
      },
      "source": [
        "import re"
      ],
      "execution_count": 0,
      "outputs": []
    },
    {
      "cell_type": "code",
      "metadata": {
        "id": "XcpI1xfDNn75",
        "colab_type": "code",
        "colab": {
          "base_uri": "https://localhost:8080/",
          "height": 34
        },
        "outputId": "2b81b24b-27c9-4ff8-9fde-8e35946026c9"
      },
      "source": [
        "# The caret ^ symbol indicates that the matching pattern has to occur at the begining of the string\n",
        "beginsWithHelloRegex = re.compile(r'^Hello')\n",
        "beginsWithHelloRegex.search('Hello there!')"
      ],
      "execution_count": 2,
      "outputs": [
        {
          "output_type": "execute_result",
          "data": {
            "text/plain": [
              "<_sre.SRE_Match object; span=(0, 5), match='Hello'>"
            ]
          },
          "metadata": {
            "tags": []
          },
          "execution_count": 2
        }
      ]
    },
    {
      "cell_type": "code",
      "metadata": {
        "id": "YTk4a0jCN9R0",
        "colab_type": "code",
        "colab": {
          "base_uri": "https://localhost:8080/",
          "height": 34
        },
        "outputId": "0b315d3e-5ceb-4445-8063-ce5b932435d5"
      },
      "source": [
        "beginsWithHelloRegex.search('he said Hello there!') # 'Hello' =/ begining so the result returns None\n",
        "beginsWithHelloRegex.search('he said Hello there!')  == None"
      ],
      "execution_count": 4,
      "outputs": [
        {
          "output_type": "execute_result",
          "data": {
            "text/plain": [
              "True"
            ]
          },
          "metadata": {
            "tags": []
          },
          "execution_count": 4
        }
      ]
    },
    {
      "cell_type": "code",
      "metadata": {
        "id": "Ue4ET9yKOEHE",
        "colab_type": "code",
        "colab": {
          "base_uri": "https://localhost:8080/",
          "height": 34
        },
        "outputId": "b00480e6-015f-4ee0-b216-156bbabb7fd1"
      },
      "source": [
        "# The dollar $ symbol indicates that the matching pattern has to occur at the end of the string\n",
        "endsWithWorldRegex = re.compile(r'world!$')\n",
        "endsWithWorldRegex.search('Hello world!')"
      ],
      "execution_count": 7,
      "outputs": [
        {
          "output_type": "execute_result",
          "data": {
            "text/plain": [
              "<_sre.SRE_Match object; span=(6, 12), match='world!'>"
            ]
          },
          "metadata": {
            "tags": []
          },
          "execution_count": 7
        }
      ]
    },
    {
      "cell_type": "code",
      "metadata": {
        "id": "ZFSzLGhjRgx4",
        "colab_type": "code",
        "colab": {
          "base_uri": "https://localhost:8080/",
          "height": 34
        },
        "outputId": "973116d9-87bb-48f1-fab6-f963b028ccc2"
      },
      "source": [
        "# ^both$ symbols indicates that the pattern must mach the entire string\n",
        "allDigitsRegex = re.compile(r'^\\d+$') # ^begins and ends$ with \\d digit(s) + one or more. \n",
        "allDigitsRegex.search('1234144545656767889895476435234')"
      ],
      "execution_count": 16,
      "outputs": [
        {
          "output_type": "execute_result",
          "data": {
            "text/plain": [
              "<_sre.SRE_Match object; span=(0, 31), match='1234144545656767889895476435234'>"
            ]
          },
          "metadata": {
            "tags": []
          },
          "execution_count": 16
        }
      ]
    },
    {
      "cell_type": "code",
      "metadata": {
        "id": "Zz2T99VRSjS7",
        "colab_type": "code",
        "colab": {
          "base_uri": "https://localhost:8080/",
          "height": 34
        },
        "outputId": "2dd1e1d6-5158-4225-fc8c-1bb8bdd22f88"
      },
      "source": [
        "# ^begins with \\d digit(s) + one or more, has \\w letters + one or more. Ends$ with \\d digit(s), + one or more.\n",
        "allDigitsRegex = re.compile(r'^\\d+\\w+\\d+$') \n",
        "allDigitsRegex.search('12341445456567678sdfsdf89895476435234')"
      ],
      "execution_count": 18,
      "outputs": [
        {
          "output_type": "execute_result",
          "data": {
            "text/plain": [
              "<_sre.SRE_Match object; span=(0, 37), match='12341445456567678sdfsdf89895476435234'>"
            ]
          },
          "metadata": {
            "tags": []
          },
          "execution_count": 18
        }
      ]
    },
    {
      "cell_type": "code",
      "metadata": {
        "id": "vUj5RVXfUAU7",
        "colab_type": "code",
        "colab": {
          "base_uri": "https://localhost:8080/",
          "height": 34
        },
        "outputId": "e85cf415-dc45-4b36-eb37-4fbe7e2e2d9b"
      },
      "source": [
        "# dot . stands for any character except newline. including whitespace\n",
        "atRegex = re.compile(r'.at') # anything followed by 'at'.\n",
        "atRegex.findall('The cat with the hat sat on the flat mat') \n",
        "# 'flat' is transleted to 'lat' because regex is looking for 1 character before 'at'"
      ],
      "execution_count": 20,
      "outputs": [
        {
          "output_type": "execute_result",
          "data": {
            "text/plain": [
              "['cat', 'hat', 'sat', 'lat', 'mat']"
            ]
          },
          "metadata": {
            "tags": []
          },
          "execution_count": 20
        }
      ]
    },
    {
      "cell_type": "code",
      "metadata": {
        "id": "7N3PeoxgUzIA",
        "colab_type": "code",
        "colab": {
          "base_uri": "https://localhost:8080/",
          "height": 34
        },
        "outputId": "4036bbd8-3d9f-4de6-a19a-92c39983c8f2"
      },
      "source": [
        "# dotStar .* means: any character zero or infinite. Is used to find all\n",
        "nameRegex= re.compile(r'First Name: (.*) Last Name: (.*)')\n",
        "nameRegex.findall('First Name: Lukasz Last Name: Kamrowski')"
      ],
      "execution_count": 22,
      "outputs": [
        {
          "output_type": "execute_result",
          "data": {
            "text/plain": [
              "[('Lukasz', 'Kamrowski')]"
            ]
          },
          "metadata": {
            "tags": []
          },
          "execution_count": 22
        }
      ]
    },
    {
      "cell_type": "code",
      "metadata": {
        "id": "N8TUPtVIWw6g",
        "colab_type": "code",
        "colab": {}
      },
      "source": [
        "# dotStar .* greedy vs. nongreedy? \n",
        "serve = '<to serve humans> for dinner>'"
      ],
      "execution_count": 0,
      "outputs": []
    },
    {
      "cell_type": "code",
      "metadata": {
        "id": "2CfwHtkdX7Zi",
        "colab_type": "code",
        "colab": {
          "base_uri": "https://localhost:8080/",
          "height": 34
        },
        "outputId": "a2eec2d9-d0d4-4a9f-d011-08368a4ba424"
      },
      "source": [
        "# nongreedy example\n",
        "nongreedy = re.compile(r'<(.*?)>') # stops at the first > symbol\n",
        "nongreedy.findall(serve)"
      ],
      "execution_count": 25,
      "outputs": [
        {
          "output_type": "execute_result",
          "data": {
            "text/plain": [
              "['to serve humans']"
            ]
          },
          "metadata": {
            "tags": []
          },
          "execution_count": 25
        }
      ]
    },
    {
      "cell_type": "code",
      "metadata": {
        "id": "2rhCRXThYAgw",
        "colab_type": "code",
        "colab": {
          "base_uri": "https://localhost:8080/",
          "height": 34
        },
        "outputId": "c70315d3-5da3-4881-f541-8db4abba29b6"
      },
      "source": [
        "# greedy example. dotStar is greedy by default\n",
        "greedy = re.compile(r'<(.*)>') # stops at the last > symbol\n",
        "greedy.findall(serve)"
      ],
      "execution_count": 27,
      "outputs": [
        {
          "output_type": "execute_result",
          "data": {
            "text/plain": [
              "['to serve humans> for dinner']"
            ]
          },
          "metadata": {
            "tags": []
          },
          "execution_count": 27
        }
      ]
    },
    {
      "cell_type": "code",
      "metadata": {
        "id": "2BrcNnhRYNx6",
        "colab_type": "code",
        "colab": {
          "base_uri": "https://localhost:8080/",
          "height": 68
        },
        "outputId": "52032105-313f-4a33-a04a-918ea879dcbc"
      },
      "source": [
        "# making dot . natch newlines too (with re.DOTALL)\n",
        "prime = 'Serve the public trust.\\nProtect the innocent.\\nUphold the law.'\n",
        "print(prime)"
      ],
      "execution_count": 29,
      "outputs": [
        {
          "output_type": "stream",
          "text": [
            "Serve the public trust.\n",
            "Protect the innocent.\n",
            "Uphold the law.\n"
          ],
          "name": "stdout"
        }
      ]
    },
    {
      "cell_type": "code",
      "metadata": {
        "id": "6pfGh2baZHpW",
        "colab_type": "code",
        "colab": {
          "base_uri": "https://localhost:8080/",
          "height": 34
        },
        "outputId": "a03174f7-ba8d-41e0-b567-662dcce6421d"
      },
      "source": [
        "dotStar = re.compile(r'.*')\n",
        "dotStar.search(prime)\n",
        "# Matches only till newLine \\n"
      ],
      "execution_count": 32,
      "outputs": [
        {
          "output_type": "execute_result",
          "data": {
            "text/plain": [
              "<_sre.SRE_Match object; span=(0, 23), match='Serve the public trust.'>"
            ]
          },
          "metadata": {
            "tags": []
          },
          "execution_count": 32
        }
      ]
    },
    {
      "cell_type": "code",
      "metadata": {
        "id": "STHhJJm8ZUgf",
        "colab_type": "code",
        "colab": {
          "base_uri": "https://localhost:8080/",
          "height": 34
        },
        "outputId": "c5a99230-a651-42bb-9d16-56fd258cc1e4"
      },
      "source": [
        "dotStar = re.compile(r'.*', re.DOTALL)\n",
        "dotStar.search(prime)\n",
        "# Matches all inluding newLine \\n"
      ],
      "execution_count": 34,
      "outputs": [
        {
          "output_type": "execute_result",
          "data": {
            "text/plain": [
              "<_sre.SRE_Match object; span=(0, 61), match='Serve the public trust.\\nProtect the innocent.\\nU>"
            ]
          },
          "metadata": {
            "tags": []
          },
          "execution_count": 34
        }
      ]
    },
    {
      "cell_type": "code",
      "metadata": {
        "id": "Jm2Ofsg1Zw-B",
        "colab_type": "code",
        "colab": {
          "base_uri": "https://localhost:8080/",
          "height": 340
        },
        "outputId": "d9057dc5-871f-47d5-a163-1fb641681cc3"
      },
      "source": [
        "# Making regex ignore uppercase\\lowercase preference\n",
        "vowelRegex = re.compile(r'[aeoiu]', re.I) # instead of IGNORECASE you can use only I\n",
        "vowelRegex.findall('Al, why does your programming book talk about RoboCop so much?')"
      ],
      "execution_count": 37,
      "outputs": [
        {
          "output_type": "execute_result",
          "data": {
            "text/plain": [
              "['A',\n",
              " 'o',\n",
              " 'e',\n",
              " 'o',\n",
              " 'u',\n",
              " 'o',\n",
              " 'a',\n",
              " 'i',\n",
              " 'o',\n",
              " 'o',\n",
              " 'a',\n",
              " 'a',\n",
              " 'o',\n",
              " 'u',\n",
              " 'o',\n",
              " 'o',\n",
              " 'o',\n",
              " 'o',\n",
              " 'u']"
            ]
          },
          "metadata": {
            "tags": []
          },
          "execution_count": 37
        }
      ]
    },
    {
      "cell_type": "markdown",
      "metadata": {
        "id": "8yPkpdqxbTO9",
        "colab_type": "text"
      },
      "source": [
        "To Recap\n",
        "- ^ means the string must start with the pattern, $ means the string must end with the pattern. Both means the entire string must match the pattern.\n",
        "- The . dot is a wildcard; it matches anything except newlines.\n",
        "- Pass re.DOTALL as the second argument to re.compile() to make the .dot match newlines as well.\n",
        "- Pass re.I as the second argument to re.compile() to make the matching case-insensitive.\n",
        "- When you combine the .dot and * star to .*dotStar you have a wildcard saying match everything: .dot means anything, * star means containing zero or more characters."
      ]
    },
    {
      "cell_type": "code",
      "metadata": {
        "id": "9qYeKVT3a1sj",
        "colab_type": "code",
        "colab": {}
      },
      "source": [
        ""
      ],
      "execution_count": 0,
      "outputs": []
    }
  ]
}