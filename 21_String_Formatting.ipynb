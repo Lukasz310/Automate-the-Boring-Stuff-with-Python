{
  "nbformat": 4,
  "nbformat_minor": 0,
  "metadata": {
    "colab": {
      "name": "21. String Formatting",
      "provenance": [],
      "collapsed_sections": [],
      "include_colab_link": true
    },
    "kernelspec": {
      "name": "python3",
      "display_name": "Python 3"
    }
  },
  "cells": [
    {
      "cell_type": "markdown",
      "metadata": {
        "id": "view-in-github",
        "colab_type": "text"
      },
      "source": [
        "<a href=\"https://colab.research.google.com/github/Lukasz310/Automate-the-Boring-Stuff-with-Python/blob/master/21_String_Formatting.ipynb\" target=\"_parent\"><img src=\"https://colab.research.google.com/assets/colab-badge.svg\" alt=\"Open In Colab\"/></a>"
      ]
    },
    {
      "cell_type": "code",
      "metadata": {
        "id": "JUZoA9-NQcpj",
        "colab_type": "code",
        "colab": {
          "base_uri": "https://localhost:8080/",
          "height": 34
        },
        "outputId": "6d06fc80-000e-4bb2-fea4-9d3a1cb9b40e"
      },
      "source": [
        "name = 'Alice'\n",
        "place = 'Main street'\n",
        "time = '6 pm'\n",
        "food = 'ice cream'\n",
        "\n",
        "\"Hello \" + name + \", you are invited to a party at \" + place + \" at \" + time + \". Please take \" + food + \" with you.\""
      ],
      "execution_count": 13,
      "outputs": [
        {
          "output_type": "execute_result",
          "data": {
            "text/plain": [
              "'Hello Alice, you are invited to a party at Main street at 6 pm. Please take ice cream with you.'"
            ]
          },
          "metadata": {
            "tags": []
          },
          "execution_count": 13
        }
      ]
    },
    {
      "cell_type": "code",
      "metadata": {
        "id": "RIomYZ5rQ8FM",
        "colab_type": "code",
        "colab": {
          "base_uri": "https://localhost:8080/",
          "height": 34
        },
        "outputId": "03931beb-e08f-45ea-b69f-ef8dbb25e4e9"
      },
      "source": [
        "name"
      ],
      "execution_count": 14,
      "outputs": [
        {
          "output_type": "execute_result",
          "data": {
            "text/plain": [
              "'Alice'"
            ]
          },
          "metadata": {
            "tags": []
          },
          "execution_count": 14
        }
      ]
    },
    {
      "cell_type": "code",
      "metadata": {
        "id": "YHEF2umxSSOX",
        "colab_type": "code",
        "colab": {
          "base_uri": "https://localhost:8080/",
          "height": 34
        },
        "outputId": "399ede6c-f4b3-4cd6-a717-4e64193fb1ef"
      },
      "source": [
        "'Hello %s, you are invited to a party at %s at %s. Please take %s with you.' % (name, place, time, food)"
      ],
      "execution_count": 15,
      "outputs": [
        {
          "output_type": "execute_result",
          "data": {
            "text/plain": [
              "'Hello Alice, you are invited to a party at Main street at 6 pm. Please take ice cream with you.'"
            ]
          },
          "metadata": {
            "tags": []
          },
          "execution_count": 15
        }
      ]
    },
    {
      "cell_type": "code",
      "metadata": {
        "id": "P5st6U-wSycL",
        "colab_type": "code",
        "colab": {}
      },
      "source": [
        ""
      ],
      "execution_count": 0,
      "outputs": []
    }
  ]
}