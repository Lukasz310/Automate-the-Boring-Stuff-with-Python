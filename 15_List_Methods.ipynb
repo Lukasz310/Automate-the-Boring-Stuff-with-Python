{
  "nbformat": 4,
  "nbformat_minor": 0,
  "metadata": {
    "kernelspec": {
      "display_name": "Python 3",
      "language": "python",
      "name": "python3"
    },
    "language_info": {
      "codemirror_mode": {
        "name": "ipython",
        "version": 3
      },
      "file_extension": ".py",
      "mimetype": "text/x-python",
      "name": "python",
      "nbconvert_exporter": "python",
      "pygments_lexer": "ipython3",
      "version": "3.7.3"
    },
    "colab": {
      "name": "15. List Methods.ipynb",
      "provenance": [],
      "collapsed_sections": [],
      "toc_visible": true,
      "include_colab_link": true
    }
  },
  "cells": [
    {
      "cell_type": "markdown",
      "metadata": {
        "id": "view-in-github",
        "colab_type": "text"
      },
      "source": [
        "<a href=\"https://colab.research.google.com/github/Lukasz310/Automate-the-Boring-Stuff-with-Python/blob/master/15_List_Methods.ipynb\" target=\"_parent\"><img src=\"https://colab.research.google.com/assets/colab-badge.svg\" alt=\"Open In Colab\"/></a>"
      ]
    },
    {
      "cell_type": "markdown",
      "metadata": {
        "id": "bdnJ4KRIj8QP",
        "colab_type": "text"
      },
      "source": [
        "# Recap\n",
        "- Methods are functions that are \"called on\" values.\n",
        "- The index() list method returns the index of an item\n",
        "- The append() list method adds a value to the end of the list\n",
        "- The insert() list method adds a value anywhere inside the list\n",
        "- The remove() list method removes an item, specified by the value, from a \n",
        "list\n",
        "- The sort() list method sorts the items in a list\n",
        "- The sort() method's reverse=True keyword argument can sort in reverse order.\n",
        "- Sorting happens in ASCII-betical order. To sort normally, pass key=str.lower.\n",
        "-These list methods operate on the list \"in place\", rather then returning a new list value."
      ]
    },
    {
      "cell_type": "markdown",
      "metadata": {
        "id": "E2P78o3bx4CK",
        "colab_type": "text"
      },
      "source": [
        "# index"
      ]
    },
    {
      "cell_type": "code",
      "metadata": {
        "id": "nhuaJ8L97ddu",
        "colab_type": "code",
        "outputId": "491f1c64-3d38-44d0-b40b-7650820fb8cd",
        "colab": {
          "base_uri": "https://localhost:8080/",
          "height": 34
        }
      },
      "source": [
        "spam = ['hello','hi','howdy','heyas']\n",
        "spam.index('hello') # .index method returns that value that you pass to it. 'hello' is at index 0."
      ],
      "execution_count": 0,
      "outputs": [
        {
          "output_type": "execute_result",
          "data": {
            "text/plain": [
              "0"
            ]
          },
          "metadata": {
            "tags": []
          },
          "execution_count": 3
        }
      ]
    },
    {
      "cell_type": "markdown",
      "metadata": {
        "id": "8S-abGNa8fxJ",
        "colab_type": "text"
      },
      "source": [
        "- Methods are called on a value, or a variable containging the value, indicated by the . (dot) following by a method name.\n",
        "- You cant call a method on its own ->"
      ]
    },
    {
      "cell_type": "code",
      "metadata": {
        "id": "Nz4B9BZm9GNX",
        "colab_type": "code",
        "outputId": "4130947c-d22f-407e-833c-92cf07c68067",
        "colab": {
          "base_uri": "https://localhost:8080/",
          "height": 163
        }
      },
      "source": [
        "index('hello')"
      ],
      "execution_count": 0,
      "outputs": [
        {
          "output_type": "error",
          "ename": "NameError",
          "evalue": "ignored",
          "traceback": [
            "\u001b[0;31m---------------------------------------------------------------------------\u001b[0m",
            "\u001b[0;31mNameError\u001b[0m                                 Traceback (most recent call last)",
            "\u001b[0;32m<ipython-input-4-74828f011f96>\u001b[0m in \u001b[0;36m<module>\u001b[0;34m()\u001b[0m\n\u001b[0;32m----> 1\u001b[0;31m \u001b[0mindex\u001b[0m\u001b[0;34m(\u001b[0m\u001b[0;34m'hello'\u001b[0m\u001b[0;34m)\u001b[0m\u001b[0;34m\u001b[0m\u001b[0;34m\u001b[0m\u001b[0m\n\u001b[0m",
            "\u001b[0;31mNameError\u001b[0m: name 'index' is not defined"
          ]
        }
      ]
    },
    {
      "cell_type": "markdown",
      "metadata": {
        "id": "syzQxPtalUvI",
        "colab_type": "text"
      },
      "source": [
        "# Append"
      ]
    },
    {
      "cell_type": "markdown",
      "metadata": {
        "id": "gvGkDnK-9agI",
        "colab_type": "text"
      },
      "source": [
        "- to add new values in a list use the [.append] and [.insert] method -> "
      ]
    },
    {
      "cell_type": "code",
      "metadata": {
        "id": "ljMk7ZrL-CSx",
        "colab_type": "code",
        "outputId": "9d473690-2d42-4e1e-d454-4d9cc275e0fa",
        "colab": {
          "base_uri": "https://localhost:8080/",
          "height": 34
        }
      },
      "source": [
        "spam = ['cat','dog','bat']\n",
        "spam.append('moose') # [.append] method adds values at the end of the list\n",
        "spam"
      ],
      "execution_count": 0,
      "outputs": [
        {
          "output_type": "execute_result",
          "data": {
            "text/plain": [
              "['cat', 'dog', 'bat', 'moose']"
            ]
          },
          "metadata": {
            "tags": []
          },
          "execution_count": 5
        }
      ]
    },
    {
      "cell_type": "code",
      "metadata": {
        "id": "ww8IIzNK-Ok6",
        "colab_type": "code",
        "outputId": "fb9c309f-740f-4210-b2ce-1395ca01a020",
        "colab": {
          "base_uri": "https://localhost:8080/",
          "height": 34
        }
      },
      "source": [
        "spam = ['cat','dog','bat']\n",
        "spam.insert(1, 'chiken') # [.insert(1, 'chicken')] method adds the given value 'chicken' at the given index 1. rest gets bumped up  \n",
        "spam"
      ],
      "execution_count": 0,
      "outputs": [
        {
          "output_type": "execute_result",
          "data": {
            "text/plain": [
              "['cat', 'chiken', 'dog', 'bat']"
            ]
          },
          "metadata": {
            "tags": []
          },
          "execution_count": 8
        }
      ]
    },
    {
      "cell_type": "markdown",
      "metadata": {
        "id": "3Dqazy0PflG7",
        "colab_type": "text"
      },
      "source": [
        "- lists are modified 'in place'\n",
        "- methods belongs to a datatype e.g. You cannot append to a string ->\n"
      ]
    },
    {
      "cell_type": "code",
      "metadata": {
        "id": "xmK3Oo3Bf5qK",
        "colab_type": "code",
        "outputId": "3fbb11bf-a577-4689-a421-6b3f08826678",
        "colab": {
          "base_uri": "https://localhost:8080/",
          "height": 197
        }
      },
      "source": [
        "eggs = 'hello'\n",
        "eggs.append('world')\n",
        "eggs"
      ],
      "execution_count": 0,
      "outputs": [
        {
          "output_type": "error",
          "ename": "AttributeError",
          "evalue": "ignored",
          "traceback": [
            "\u001b[0;31m---------------------------------------------------------------------------\u001b[0m",
            "\u001b[0;31mAttributeError\u001b[0m                            Traceback (most recent call last)",
            "\u001b[0;32m<ipython-input-9-4791d61a641e>\u001b[0m in \u001b[0;36m<module>\u001b[0;34m()\u001b[0m\n\u001b[1;32m      1\u001b[0m \u001b[0meggs\u001b[0m \u001b[0;34m=\u001b[0m \u001b[0;34m'hello'\u001b[0m\u001b[0;34m\u001b[0m\u001b[0;34m\u001b[0m\u001b[0m\n\u001b[0;32m----> 2\u001b[0;31m \u001b[0meggs\u001b[0m\u001b[0;34m.\u001b[0m\u001b[0mappend\u001b[0m\u001b[0;34m(\u001b[0m\u001b[0;34m'world'\u001b[0m\u001b[0;34m)\u001b[0m\u001b[0;34m\u001b[0m\u001b[0;34m\u001b[0m\u001b[0m\n\u001b[0m\u001b[1;32m      3\u001b[0m \u001b[0meggs\u001b[0m\u001b[0;34m\u001b[0m\u001b[0;34m\u001b[0m\u001b[0m\n",
            "\u001b[0;31mAttributeError\u001b[0m: 'str' object has no attribute 'append'"
          ]
        }
      ]
    },
    {
      "cell_type": "markdown",
      "metadata": {
        "id": "HWvH7bd4laPo",
        "colab_type": "text"
      },
      "source": [
        "# Sort"
      ]
    },
    {
      "cell_type": "markdown",
      "metadata": {
        "id": "e447LeY_gy8Q",
        "colab_type": "text"
      },
      "source": [
        "- A list with number values or string values can be sorted with the __sort()__ method. ->"
      ]
    },
    {
      "cell_type": "code",
      "metadata": {
        "id": "U3J6ZuwIhH4t",
        "colab_type": "code",
        "outputId": "ed1a4904-e771-41b2-dc67-bd5b2011230a",
        "colab": {
          "base_uri": "https://localhost:8080/",
          "height": 34
        }
      },
      "source": [
        "# example number values\n",
        "spam = [2, 5, -6, 3.14, 100, 8, 32 ] \n",
        "spam.sort()\n",
        "spam"
      ],
      "execution_count": 0,
      "outputs": [
        {
          "output_type": "execute_result",
          "data": {
            "text/plain": [
              "[-6, 2, 3.14, 5, 8, 32, 100]"
            ]
          },
          "metadata": {
            "tags": []
          },
          "execution_count": 10
        }
      ]
    },
    {
      "cell_type": "code",
      "metadata": {
        "id": "SLcMGlSWhdmQ",
        "colab_type": "code",
        "outputId": "f5f7e8f8-5fb2-49f0-8676-9ee5e271f139",
        "colab": {
          "base_uri": "https://localhost:8080/",
          "height": 204
        }
      },
      "source": [
        "# example string values (ASCIIbethical order, capital to small)\n",
        "spam = ['ants', 'green', 'Zero', 'Hero', 'noble', 'Crash', 'Anwser', 'greta', 'beta', 'Omega', 'diversity']\n",
        "spam.sort()\n",
        "spam"
      ],
      "execution_count": 0,
      "outputs": [
        {
          "output_type": "execute_result",
          "data": {
            "text/plain": [
              "['Anwser',\n",
              " 'Crash',\n",
              " 'Hero',\n",
              " 'Omega',\n",
              " 'Zero',\n",
              " 'ants',\n",
              " 'beta',\n",
              " 'diversity',\n",
              " 'green',\n",
              " 'greta',\n",
              " 'noble']"
            ]
          },
          "metadata": {
            "tags": []
          },
          "execution_count": 13
        }
      ]
    },
    {
      "cell_type": "markdown",
      "metadata": {
        "id": "yCdAUKaPi-w6",
        "colab_type": "text"
      },
      "source": [
        "- For alphbetical order you can pass the keyword __'key=st.lower'__ to the method"
      ]
    },
    {
      "cell_type": "code",
      "metadata": {
        "id": "csXzjXPUjKm9",
        "colab_type": "code",
        "outputId": "e5b43198-2bce-43fb-db39-20320b1579b0",
        "colab": {
          "base_uri": "https://localhost:8080/",
          "height": 34
        }
      },
      "source": [
        "spam = ['a', 'z', 'A', 'Z']\n",
        "spam.sort(key=str.lower) # Keyword (key=str.lower) provides alphabetical order\n",
        "spam"
      ],
      "execution_count": 0,
      "outputs": [
        {
          "output_type": "execute_result",
          "data": {
            "text/plain": [
              "['a', 'A', 'z', 'Z']"
            ]
          },
          "metadata": {
            "tags": []
          },
          "execution_count": 14
        }
      ]
    }
  ]
}