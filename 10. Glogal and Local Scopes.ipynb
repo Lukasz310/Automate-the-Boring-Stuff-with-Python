{
 "cells": [
  {
   "cell_type": "markdown",
   "metadata": {},
   "source": [
    "Scope is a containainer of variables\n",
    "- Variables assigned __outside__ all functions are set to exist in a __global scope__\n",
    "- Primers and variables are set to exist __in__ that functions __local scope__"
   ]
  },
  {
   "cell_type": "code",
   "execution_count": 1,
   "metadata": {},
   "outputs": [
    {
     "name": "stdout",
     "output_type": "stream",
     "text": [
      "Some code here\n",
      "Some more code\n"
     ]
    }
   ],
   "source": [
    "spam = 42 #global variable \n",
    "\n",
    "def eggs(): \n",
    "    spam = 42 #local variable (no assigment statement)\n",
    "    \n",
    "print('Some code here')\n",
    "print('Some more code')"
   ]
  },
  {
   "cell_type": "markdown",
   "metadata": {},
   "source": [
    "Scope covers an area of the sourcecode. Any given line is in a __global__ scope or a __local__ scope. Each function has it's own __local__ scope. You can think of a scope as a container of variables.\n",
    "A variable can't be local and global<br>\n",
    "<ol>\n",
    "<li>Code in the global scope cannot use any local variables.</li>\n",
    "<li>Code in a local scope can access global variable.</li>\n",
    "<li>Code in one function's local scope cannot use variables in another local scope.</li>\n",
    "<li>You can use the same name for different variables if rhey are in a different scope.</li>\n",
    "</ol>\n"
   ]
  },
  {
   "cell_type": "markdown",
   "metadata": {},
   "source": [
    "__Assigment Statement__: When a local function calls a variable wich is assigned in thesame __local scope__.<br> \n",
    "__No assigment statement__: When a local function calls a variable wich is assigned in a __global scope__."
   ]
  },
  {
   "cell_type": "markdown",
   "metadata": {},
   "source": [
    "To recap:\n",
    "- A scope can be tought of as an area of the source code, and as a container of variables.<br>\n",
    "- The global scope is code outside of all functions. Variables assigned here are global variables.<br>\n",
    "- Each function's code is in its own local scope. Variables assigned here are local variables.<br>\n",
    "- Code in the global scope cannot use any local variables.<br>\n",
    "- Code in a function's local scope cannot use variables in any another's local scope.<br>\n",
    "- If thre's an assigment statement for a variable in a function, that's a local variable."
   ]
  },
  {
   "cell_type": "code",
   "execution_count": null,
   "metadata": {},
   "outputs": [],
   "source": []
  }
 ],
 "metadata": {
  "kernelspec": {
   "display_name": "Python 3",
   "language": "python",
   "name": "python3"
  },
  "language_info": {
   "codemirror_mode": {
    "name": "ipython",
    "version": 3
   },
   "file_extension": ".py",
   "mimetype": "text/x-python",
   "name": "python",
   "nbconvert_exporter": "python",
   "pygments_lexer": "ipython3",
   "version": "3.7.3"
  }
 },
 "nbformat": 4,
 "nbformat_minor": 2
}
