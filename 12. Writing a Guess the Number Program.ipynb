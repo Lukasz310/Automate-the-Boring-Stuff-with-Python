{
 "cells": [
  {
   "cell_type": "code",
   "execution_count": null,
   "metadata": {},
   "outputs": [
    {
     "name": "stdout",
     "output_type": "stream",
     "text": [
      "Hello! What is your name\n"
     ]
    }
   ],
   "source": [
    "# This is a guess the number game\n",
    "import random\n",
    "\n",
    "print('Hello! What is your name')\n",
    "name = input()\n",
    "\n",
    "print('Well ' + name + ', I am thinking of a number between 1 and 20')\n",
    "secretNumber = random.randint(1, 20)\n",
    "\n",
    "for guessesTaken in range(1, 7):\n",
    "    print('Take a guess,')\n",
    "    guess = int(input())\n",
    "    \n",
    "    if guess < secretNumber: \n",
    "        print('your guess is too low')\n",
    "    elif guess > secretNumber:\n",
    "        print('Your guess is too high')\n",
    "    else:\n",
    "        break # This condition is for the correct guess!\n",
    "\n",
    "if guess == secretNumber:\n",
    "    print('Good job ' + name + ', you guessed it in ' + str(guessesTaken) + ' guesses' )\n",
    "else:\n",
    "    print('Nope, the number I was thinking of was ' + str(secretNumber))\n",
    "\n",
    "    \n"
   ]
  },
  {
   "cell_type": "markdown",
   "metadata": {},
   "source": [
    "## "
   ]
  },
  {
   "cell_type": "code",
   "execution_count": null,
   "metadata": {},
   "outputs": [],
   "source": []
  }
 ],
 "metadata": {
  "kernelspec": {
   "display_name": "Python 3",
   "language": "python",
   "name": "python3"
  },
  "language_info": {
   "codemirror_mode": {
    "name": "ipython",
    "version": 3
   },
   "file_extension": ".py",
   "mimetype": "text/x-python",
   "name": "python",
   "nbconvert_exporter": "python",
   "pygments_lexer": "ipython3",
   "version": "3.7.3"
  }
 },
 "nbformat": 4,
 "nbformat_minor": 2
}
