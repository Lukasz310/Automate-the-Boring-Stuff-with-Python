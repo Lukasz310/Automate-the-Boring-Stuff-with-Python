{
  "nbformat": 4,
  "nbformat_minor": 0,
  "metadata": {
    "colab": {
      "name": "18. Data Structures",
      "provenance": [],
      "include_colab_link": true
    },
    "kernelspec": {
      "name": "python3",
      "display_name": "Python 3"
    }
  },
  "cells": [
    {
      "cell_type": "markdown",
      "metadata": {
        "id": "view-in-github",
        "colab_type": "text"
      },
      "source": [
        "<a href=\"https://colab.research.google.com/github/Lukasz310/Automate-the-Boring-Stuff-with-Python/blob/master/18_Data_Structures.ipynb\" target=\"_parent\"><img src=\"https://colab.research.google.com/assets/colab-badge.svg\" alt=\"Open In Colab\"/></a>"
      ]
    },
    {
      "cell_type": "code",
      "metadata": {
        "id": "iuoPOP_pXw37",
        "colab_type": "code",
        "colab": {}
      },
      "source": [
        "cat = {'name': 'Consuela', 'age': 15, 'color': 'gray'}"
      ],
      "execution_count": 0,
      "outputs": []
    },
    {
      "cell_type": "code",
      "metadata": {
        "id": "j-8kb_c9YXeo",
        "colab_type": "code",
        "colab": {}
      },
      "source": [
        "allCats = []\n",
        "allCats.append({'name': 'Consuela', 'age': 15, 'color': 'gray'})"
      ],
      "execution_count": 0,
      "outputs": []
    },
    {
      "cell_type": "code",
      "metadata": {
        "id": "pciu6SZjYlCY",
        "colab_type": "code",
        "colab": {}
      },
      "source": [
        "allCats.append({'name': 'Pook', 'age': 5, 'color': 'black'})"
      ],
      "execution_count": 0,
      "outputs": []
    },
    {
      "cell_type": "code",
      "metadata": {
        "id": "zJA5R78zYve4",
        "colab_type": "code",
        "colab": {}
      },
      "source": [
        "allCats.append({'name': 'Zophie', 'age': 9, 'color': 'orange'})"
      ],
      "execution_count": 0,
      "outputs": []
    },
    {
      "cell_type": "code",
      "metadata": {
        "id": "HApfDDV1Y0zQ",
        "colab_type": "code",
        "colab": {}
      },
      "source": [
        "allCats.append({'name': 'timmy', 'age': 4, 'color': 'purple'})"
      ],
      "execution_count": 0,
      "outputs": []
    },
    {
      "cell_type": "code",
      "metadata": {
        "id": "-29ep0mcY5ZQ",
        "colab_type": "code",
        "outputId": "efe18cc6-7c95-43ef-9bda-e839366d616d",
        "colab": {
          "base_uri": "https://localhost:8080/",
          "height": 85
        }
      },
      "source": [
        "allCats"
      ],
      "execution_count": 0,
      "outputs": [
        {
          "output_type": "execute_result",
          "data": {
            "text/plain": [
              "[{'age': 15, 'color': 'gray', 'name': 'Consuela'},\n",
              " {'age': 5, 'color': 'black', 'name': 'Pook'},\n",
              " {'age': 9, 'color': 'orange', 'name': 'Zophie'},\n",
              " {'age': 4, 'color': 'purple', 'name': 'timmy'}]"
            ]
          },
          "metadata": {
            "tags": []
          },
          "execution_count": 6
        }
      ]
    }
  ]
}